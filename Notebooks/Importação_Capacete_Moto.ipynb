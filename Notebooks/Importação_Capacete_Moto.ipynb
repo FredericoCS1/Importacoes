{
  "nbformat": 4,
  "nbformat_minor": 0,
  "metadata": {
    "colab": {
      "provenance": [],
      "collapsed_sections": [
        "25Qi3bXQvCBE",
        "HPDF1taZPMBL",
        "ozN33FGGPO7r"
      ]
    },
    "kernelspec": {
      "name": "python3",
      "display_name": "Python 3"
    },
    "language_info": {
      "name": "python"
    }
  },
  "cells": [
    {
      "cell_type": "markdown",
      "source": [
        "## Bibliotecas"
      ],
      "metadata": {
        "id": "25Qi3bXQvCBE"
      }
    },
    {
      "cell_type": "code",
      "execution_count": null,
      "metadata": {
        "id": "-L0sCQ2GAceH"
      },
      "outputs": [],
      "source": [
        "import pandas as pd\n",
        "import ast"
      ]
    },
    {
      "cell_type": "markdown",
      "source": [
        "## Importadores"
      ],
      "metadata": {
        "id": "HPDF1taZPMBL"
      }
    },
    {
      "cell_type": "code",
      "source": [
        "# Lista de importadores de capacete de moto\n",
        "importadorMot = pd.read_excel('https://raw.githubusercontent.com/FredericoCS1/Importacoes/main/Importadores/importadoresMoto.xlsx')\n",
        "importadorMot.head()"
      ],
      "metadata": {
        "id": "SmOl4YrXwOap"
      },
      "execution_count": null,
      "outputs": []
    },
    {
      "cell_type": "code",
      "source": [
        "# Transformar o DataFrame em lista\n",
        "importadorMot = importadorMot['ImportadoresMoto'].to_list()"
      ],
      "metadata": {
        "id": "Yt_9-rL7LTAU"
      },
      "execution_count": null,
      "outputs": []
    },
    {
      "cell_type": "code",
      "source": [
        "# Lista de importadores adicionais\n",
        "importadorExt = pd.read_excel('https://raw.githubusercontent.com/FredericoCS1/Importacoes/main/Importadores/importadoresExtra.xlsx')\n",
        "importadorExt.head()"
      ],
      "metadata": {
        "id": "JrOf6-oRxOfP"
      },
      "execution_count": null,
      "outputs": []
    },
    {
      "cell_type": "code",
      "source": [
        "# Transformar o DataFrame em lista\n",
        "importadorExt = importadorExt['ImportadoresExtra'].to_list()"
      ],
      "metadata": {
        "id": "iAvG6mwwn2Mt"
      },
      "execution_count": null,
      "outputs": []
    },
    {
      "cell_type": "markdown",
      "source": [
        "## Código"
      ],
      "metadata": {
        "id": "ozN33FGGPO7r"
      }
    },
    {
      "cell_type": "code",
      "source": [
        "# Leitura da base, retornando os primeiros valores\n",
        "df = pd.read_excel('Relatório de Importação.xlsx')\n",
        "df.head()"
      ],
      "metadata": {
        "id": "MZ3cg3omAklr"
      },
      "execution_count": null,
      "outputs": []
    },
    {
      "cell_type": "code",
      "source": [
        "# Retorna a quantidade de valores de uma coluna da base\n",
        "df['Palavras chave de descrição do produto'].count()"
      ],
      "metadata": {
        "id": "NmhPiRqhfCA1"
      },
      "execution_count": null,
      "outputs": []
    },
    {
      "cell_type": "code",
      "source": [
        "# Tirando a primeira linha da base, porque só contem valores nulos e sem importância\n",
        "df.drop([0, 0], inplace=True)"
      ],
      "metadata": {
        "id": "bhaIe09fA9LK"
      },
      "execution_count": null,
      "outputs": []
    },
    {
      "cell_type": "code",
      "source": [
        "# Criando uma cópia da base para estudo, assim não afeta a principal\n",
        "dfCap = df.copy()"
      ],
      "metadata": {
        "id": "GrH36n4BCSeD"
      },
      "execution_count": null,
      "outputs": []
    },
    {
      "cell_type": "code",
      "source": [
        "# Dentro da cópia chamada de 'dfCap', foi criada uma variável, 'filterCap', esta irá armazenar as modificações feitas na base cópia\n",
        "# Esta parte faz uma busca dentro da coluna, 'Palavras chave de descrição do produto', para os valores dentro de 'contains', todos os valores da base são considerados string\n",
        "filterCap = dfCap[\n",
        "    dfCap['Palavras chave de descrição do produto']\n",
        "    .astype(str)\n",
        "    .str.contains(r'CAPACETE|HELMET', na=False)\n",
        "# Esta segunda parte faz uma busca na mesma coluna, mas agora retirando os valores dentro de 'contains', valores para string\n",
        "    & ~dfCap['Palavras chave de descrição do produto']\n",
        "    .astype(str)\n",
        "    .str.contains(r'PROTETOR|BOMBEIRO|INCENDIO|SKI|INDUSTRIAL|'\n",
        "                  r'EQUITAÇÃO|MASCARA|EPI|AUTOGRAFADO', na=False)\n",
        "]\n",
        "# Para a criação de uma novo DF, tabela, será retirado os index, para que não afetem a leitura\n",
        "filterCap.reset_index(drop=True, inplace=True)\n",
        "# Retorna a quantidade de valores de uma coluna da base\n",
        "filterCap['Palavras chave de descrição do produto'].count()"
      ],
      "metadata": {
        "id": "dgcS7TPM5zI9"
      },
      "execution_count": null,
      "outputs": []
    },
    {
      "cell_type": "code",
      "source": [
        "# Transformação do DF em excel\n",
        "filterCap.to_excel('Relatório de Importação de Capacetes.xlsx', index=False)"
      ],
      "metadata": {
        "id": "8poT2DUj9k6h"
      },
      "execution_count": null,
      "outputs": []
    },
    {
      "cell_type": "code",
      "source": [
        "# Leitura da nova base, retornando a quantidade de valores\n",
        "df2 = pd.read_excel('Relatório de Importação de Capacetes.xlsx')\n",
        "df2['Palavras chave de descrição do produto'].count()"
      ],
      "metadata": {
        "id": "ThUhIY3u-7Zy"
      },
      "execution_count": null,
      "outputs": []
    },
    {
      "cell_type": "code",
      "source": [
        "# Cópia da base\n",
        "dfAj = df2.copy()"
      ],
      "metadata": {
        "id": "IAz91uM1__lQ"
      },
      "execution_count": null,
      "outputs": []
    },
    {
      "cell_type": "code",
      "source": [
        "# Armazena as modificações\n",
        "# Retira os valores dentro de 'contains', string\n",
        "filterAj = dfAj[\n",
        "    ~dfAj['Palavras chave de descrição do produto']\n",
        "    .astype(str)\n",
        "    .str.contains(r'BICICLETA|AUTOMOBILISMO|MOUNTAIN|TREK|SCOTT', na=False)\n",
        "]\n",
        "\n",
        "# Retira index\n",
        "filterAj.reset_index(drop=True, inplace=True)\n",
        "# Quantidade de valores\n",
        "filterAj['Palavras chave de descrição do produto'].count()"
      ],
      "metadata": {
        "id": "y50mf19PFkzV"
      },
      "execution_count": null,
      "outputs": []
    },
    {
      "cell_type": "code",
      "source": [
        "# DF para excel\n",
        "filterAj.to_excel('Relatório de Importação de Capacetes Ajustado.xlsx', index=False)"
      ],
      "metadata": {
        "id": "iYKZqkFsGGq6"
      },
      "execution_count": null,
      "outputs": []
    },
    {
      "cell_type": "code",
      "source": [
        "# Nova base, retornando a quantidade de valores\n",
        "df3 = pd.read_excel('Relatório de Importação de Capacetes Ajustado.xlsx')\n",
        "df3['Palavras chave de descrição do produto'].count()"
      ],
      "metadata": {
        "id": "4wBluuSF0gXS"
      },
      "execution_count": null,
      "outputs": []
    },
    {
      "cell_type": "code",
      "source": [
        "# Cópia da base\n",
        "dfFim = df3.copy()"
      ],
      "metadata": {
        "id": "YQhBjvmU0tJp"
      },
      "execution_count": null,
      "outputs": []
    },
    {
      "cell_type": "code",
      "source": [
        "# A filtragem desta parte consiste na busca dos valores dentro da lista 'importadorMot'\n",
        "# Aplica uma função lambda, para cada elemento 'x', da coluna 'PROVÁVEL IMPORTADOR'\n",
        "# 'x' representa um valor único da coluna, passado na função lammbda\n",
        "# any, é uma expressão para verificar se existe algum valor string dentro da lista 'importadorMot' que é subvalor, substring, de 'x'\n",
        "# Verifica se existe algum elemento 'imp' dentro de 'importadorMot', que esta contido em 'x'\n",
        "filterFim = dfFim[dfFim['PROVÁVEL IMPORTADOR']\n",
        "    .astype(str)\n",
        "    .apply(lambda x: any(imp in x for imp in importadorMot))\n",
        "]\n",
        "# Retira index\n",
        "filterFim.reset_index(drop=True, inplace=True)\n",
        "# Quantidade de valores\n",
        "filterFim['Palavras chave de descrição do produto'].count()"
      ],
      "metadata": {
        "id": "Pb3SXwP2Asv9"
      },
      "execution_count": null,
      "outputs": []
    },
    {
      "cell_type": "code",
      "source": [
        "# DF para excel\n",
        "filterFim.to_excel('Relatório de Importação de Capacetes de Moto.xlsx', index=False)"
      ],
      "metadata": {
        "id": "Mxc2M5vGzzFt"
      },
      "execution_count": null,
      "outputs": []
    },
    {
      "cell_type": "code",
      "source": [
        "# Leitura da base, retornando a quantidade de valores\n",
        "df4 = pd.read_excel('Relatório de Importação de Capacetes de Moto.xlsx')\n",
        "df4['Palavras chave de descrição do produto'].count()"
      ],
      "metadata": {
        "id": "A_xXTrQG5S8B"
      },
      "execution_count": null,
      "outputs": []
    },
    {
      "cell_type": "code",
      "source": [
        "# Cópia da base\n",
        "dfRes = df4.copy()"
      ],
      "metadata": {
        "id": "EzZCIqCZ6sn4"
      },
      "execution_count": null,
      "outputs": []
    },
    {
      "cell_type": "code",
      "source": [
        "# Lista vazia para os dados extraídos\n",
        "extracted_data = []\n",
        "\n",
        "# Função for que itera para cada linha do DataFrame\n",
        "for index, row in dfRes.iterrows():\n",
        "  # Tenta executar as funções\n",
        "  try:\n",
        "    # Transforma a string em um dicionário Python\n",
        "    row_dict = ast.literal_eval(row['Relevância por palavra-chave'])\n",
        "    # Função for que itera cada parâmetro do dicionário\n",
        "    for key, inner_dict in row_dict.items():\n",
        "      # Para cada parâmetro do dicionário, um dado é extraído e colocado na lista\n",
        "        extracted_data.append({\n",
        "        'row_index': index,\n",
        "        'Keywords': inner_dict['keywords'],\n",
        "        'Quantidade Estatística': inner_dict['relevancia_qtd'],\n",
        "        'Valor FOB Unitário': inner_dict['relevancia_fob']\n",
        "    })\n",
        "  # Se tiver um erro, separa dos extraídos para que não pare a execução\n",
        "  except (ValueError, KeyError, SyntaxError) as e:\n",
        "    print(f\"Erro ao processar a linha {index}: {e}\")\n",
        "\n",
        "# Transforma a lista dos extraídos em um DataFrame\n",
        "dfRes_extracted = pd.DataFrame(extracted_data)\n",
        "\n",
        "# Transforma os valores para numérico\n",
        "dfRes_extracted['Quantidade Estatística'] = pd.to_numeric(dfRes_extracted['Quantidade Estatística'], errors='coerce')\n",
        "dfRes_extracted['Valor FOB Unitário'] = pd.to_numeric(dfRes_extracted['Valor FOB Unitário'], errors='coerce')\n",
        "\n",
        "# Une esse novo DF com o resto da base\n",
        "dfRes_final = dfRes.merge(dfRes_extracted, left_index=True, right_on = 'row_index', how='left')\n",
        "# Excluí colunas indesejadas\n",
        "dfRes_final.drop(columns=['Relevância por palavra-chave', 'row_index'], inplace=True)\n",
        "\n",
        "dfRes_final.head()"
      ],
      "metadata": {
        "id": "fxYik-IY9-wZ"
      },
      "execution_count": null,
      "outputs": []
    },
    {
      "cell_type": "code",
      "source": [
        "# Divide a coluna FOB pela Quantidade estatística\n",
        "dfRes_final['QTD por FOB'] = dfRes_final['Valor FOB Unitário'] / dfRes_final['Quantidade Estatística']\n",
        "dfRes_final.head()"
      ],
      "metadata": {
        "id": "vU8zIac4FqpH"
      },
      "execution_count": null,
      "outputs": []
    },
    {
      "cell_type": "code",
      "source": [
        "# DF para Excel\n",
        "dfRes_final.to_excel('Relatório de Importação de Capacetes de Moto Final.xlsx', index=False)"
      ],
      "metadata": {
        "id": "gP6X6vdURMxf"
      },
      "execution_count": null,
      "outputs": []
    },
    {
      "cell_type": "code",
      "source": [
        "# Nova base\n",
        "df5 = pd.read_excel('Relatório de Importação de Capacetes de Moto Final.xlsx')\n",
        "df5.head()"
      ],
      "metadata": {
        "id": "Lg2jY_y0jNkR"
      },
      "execution_count": null,
      "outputs": []
    },
    {
      "cell_type": "code",
      "source": [
        "# Cópia da base\n",
        "dfExt = df5.copy()"
      ],
      "metadata": {
        "id": "8ZgRxuzD9VJR"
      },
      "execution_count": null,
      "outputs": []
    },
    {
      "cell_type": "code",
      "source": [
        "# Lista contendo marcas de capacete de moto\n",
        "brandsMot = [\n",
        "    \"AGV\", \"AIROH\", \"ALPINESTAR\", \"ARAI\", \"ASW\", \"ASTONE\", \"AXXIS\",\n",
        "    \"BIEFFE\", \"BMW\", \"GP TECH\", \"HELT\", \"HJC\", \"KYT\", \"LS2\", \"LUCCA\",\n",
        "    \"NEXX\", \"NOLAN\", \"NORISK\", \"NZI\", \"PEELS\", 'RACE', \"RACE TECH\",\n",
        "    \"SCHUBERTH\", \"SHARK\", \"SHOEI\", \"SMK\", \"STG\", \"SUOMY\", \"TEXX\",\n",
        "    \"X11\", 'Reaper']"
      ],
      "metadata": {
        "id": "ALje3pTQA_KP"
      },
      "execution_count": null,
      "outputs": []
    },
    {
      "cell_type": "code",
      "source": [
        "# Vai trazer todos os valores que não estão contidos dentro da lista 'brandsMot'\n",
        "filterExt = dfExt[\n",
        "    ~dfExt['Palavras chave de descrição do produto']\n",
        "    .astype(str)\n",
        "    .str.contains('|'.join(brandsMot))]\n",
        "# Retira index\n",
        "filterExt.reset_index(drop=True, inplace=True)\n",
        "# Quantidade de valores\n",
        "filterExt['Palavras chave de descrição do produto'].count()"
      ],
      "metadata": {
        "id": "thH7QYFZ5bw1"
      },
      "execution_count": null,
      "outputs": []
    }
  ]
}