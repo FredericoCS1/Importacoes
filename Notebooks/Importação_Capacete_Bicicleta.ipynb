{
  "nbformat": 4,
  "nbformat_minor": 0,
  "metadata": {
    "colab": {
      "provenance": []
    },
    "kernelspec": {
      "name": "python3",
      "display_name": "Python 3"
    },
    "language_info": {
      "name": "python"
    }
  },
  "cells": [
    {
      "cell_type": "markdown",
      "source": [
        "## Bibliotecas"
      ],
      "metadata": {
        "id": "jlARj6hsZrnA"
      }
    },
    {
      "cell_type": "code",
      "execution_count": null,
      "metadata": {
        "id": "tvlDAWjj13fd"
      },
      "outputs": [],
      "source": [
        "import pandas as pd\n",
        "import ast"
      ]
    },
    {
      "cell_type": "markdown",
      "source": [
        "## Importadores"
      ],
      "metadata": {
        "id": "hTucEmGAR1nE"
      }
    },
    {
      "cell_type": "code",
      "source": [
        "# Lista de importadores de capacete de moto\n",
        "importadorMot = pd.read_excel('https://raw.githubusercontent.com/FredericoCS1/Importacoes/main/Importadores/importadoresMoto.xlsx')\n",
        "importadorMot.head()"
      ],
      "metadata": {
        "id": "cn32K5bwF0JV"
      },
      "execution_count": null,
      "outputs": []
    },
    {
      "cell_type": "code",
      "source": [
        "importadorMot = importadorMot['ImportadoresMoto'].to_list()"
      ],
      "metadata": {
        "id": "Yt_9-rL7LTAU"
      },
      "execution_count": null,
      "outputs": []
    },
    {
      "cell_type": "code",
      "source": [
        "# Lista de importadores adicionais\n",
        "importadorExt = pd.read_excel('https://raw.githubusercontent.com/FredericoCS1/Importacoes/main/Importadores/importadoresExtra.xlsx')\n",
        "importadorExt.head()"
      ],
      "metadata": {
        "id": "SOFxM0idoNAT"
      },
      "execution_count": null,
      "outputs": []
    },
    {
      "cell_type": "code",
      "source": [
        "importadorExt = importadorExt['ImportadoresExtra'].to_list()"
      ],
      "metadata": {
        "id": "-D9o7wA1oVWq"
      },
      "execution_count": null,
      "outputs": []
    },
    {
      "cell_type": "code",
      "source": [
        "# Lista de importadores de Capacete de Bicicleta\n",
        "importadorBic = pd.read_excel('https://raw.githubusercontent.com/FredericoCS1/Importacoes/main/Importadores/importadoresBike.xlsx')\n",
        "importadorBic.head()"
      ],
      "metadata": {
        "id": "3774_b3wbOJX"
      },
      "execution_count": null,
      "outputs": []
    },
    {
      "cell_type": "code",
      "source": [
        "importadorBic = importadorBic['ImportadoresBike'].to_list()"
      ],
      "metadata": {
        "id": "2R87ipA5TQZ3"
      },
      "execution_count": null,
      "outputs": []
    },
    {
      "cell_type": "markdown",
      "source": [
        "## Código"
      ],
      "metadata": {
        "id": "rRUZ-nWMR1j8"
      }
    },
    {
      "cell_type": "code",
      "source": [
        "# Leitura da base, retornando os primeiros valores\n",
        "df = pd.read_excel('Relatório de Importação.xlsx')\n",
        "df.head()"
      ],
      "metadata": {
        "id": "MZ3cg3omAklr"
      },
      "execution_count": null,
      "outputs": []
    },
    {
      "cell_type": "code",
      "source": [
        "# Retorna a quantidade de valores de uma coluna da base\n",
        "df['Palavras chave de descrição do produto'].count()"
      ],
      "metadata": {
        "id": "NmhPiRqhfCA1"
      },
      "execution_count": null,
      "outputs": []
    },
    {
      "cell_type": "code",
      "source": [
        "# Tirando a primeira linha da base, porque só contem valores nulos e sem importância\n",
        "df.drop([0, 0], inplace=True)"
      ],
      "metadata": {
        "id": "bhaIe09fA9LK"
      },
      "execution_count": null,
      "outputs": []
    },
    {
      "cell_type": "code",
      "source": [
        "# Criando uma cópia da base para estudo, assim não afeta a principal\n",
        "dfCap = df.copy()"
      ],
      "metadata": {
        "id": "GrH36n4BCSeD"
      },
      "execution_count": null,
      "outputs": []
    },
    {
      "cell_type": "code",
      "source": [
        "# Dentro da cópia chamada de 'dfCap', foi criada uma variável, 'filterCap', esta irá armazenar as modificações feitas na base cópia\n",
        "# Esta parte faz uma busca dentro da coluna, 'Palavras chave de descrição do produto', para os valores dentro de 'contains', todos os valores da base são considerados string\n",
        "filterCap = dfCap[\n",
        "    dfCap['Palavras chave de descrição do produto']\n",
        "    .astype(str)\n",
        "    .str.contains(r'CAPACETE|HELMET', na=False)\n",
        "# Esta segunda parte faz uma busca na mesma coluna, mas agora retirando os valores dentro de 'contains', valores para string\n",
        "    & ~dfCap['Palavras chave de descrição do produto']\n",
        "    .astype(str)\n",
        "    .str.contains(r'PROTETOR|BOMBEIRO|INCENDIO|SKI|INDUSTRIAL|'\n",
        "                  r'EQUITAÇÃO|KART|PASSAGEIROS|MASCARA|EPI|'\n",
        "                  r'AUTOGRAFADO|HIPISMO|OUTSHOCK|AUTOMOBILISMO|'\n",
        "                  r'WEDZE', na=False)\n",
        "]\n",
        "# Para a criação de uma novo DF, tabela, será retirado os index, para que não afetem a leitura\n",
        "filterCap.reset_index(drop=True, inplace=True)\n",
        "# Retorna a quantidade de valores de uma coluna da base\n",
        "filterCap['Palavras chave de descrição do produto'].count()"
      ],
      "metadata": {
        "id": "dgcS7TPM5zI9"
      },
      "execution_count": null,
      "outputs": []
    },
    {
      "cell_type": "code",
      "source": [
        "# Transformação do DF em excel\n",
        "filterCap.to_excel('Relatório de Importação de Capacetes Ajustado.xlsx', index=False)"
      ],
      "metadata": {
        "id": "8poT2DUj9k6h"
      },
      "execution_count": null,
      "outputs": []
    },
    {
      "cell_type": "code",
      "source": [
        "# Leitura da nova base, retornando a quantidade de valores\n",
        "df2 = pd.read_excel('Relatório de Importação de Capacetes Ajustado.xlsx')\n",
        "df2['Palavras chave de descrição do produto'].count()"
      ],
      "metadata": {
        "id": "ThUhIY3u-7Zy"
      },
      "execution_count": null,
      "outputs": []
    },
    {
      "cell_type": "code",
      "source": [
        "# Cópia da base\n",
        "dfFim = df2.copy()"
      ],
      "metadata": {
        "id": "IAz91uM1__lQ"
      },
      "execution_count": null,
      "outputs": []
    },
    {
      "cell_type": "code",
      "source": [
        "# A filtragem desta parte consiste na busca dos valores dentro da lista 'importadorMot'\n",
        "# Aplica uma função lambda, para cada elemento 'x' da coluna, 'PROVÁVEL IMPORTADOR'\n",
        "# 'x' representa um valor único da coluna, passado na função lammbda\n",
        "# Verifica se existe algum valor, em string, dentro da lista 'importadorMot' que é subvalor, substring, de 'x'\n",
        "# Verifica se existe algum elemento, 'imp' dentro de 'importadorMot', que esta contido em 'x'\n",
        "filterFim = dfFim[dfFim['PROVÁVEL IMPORTADOR']\n",
        "    .astype(str)\n",
        "    .apply(lambda x: any(imp in x for imp in importadorBic))\n",
        "]\n",
        "# Retira index\n",
        "filterFim.reset_index(drop=True, inplace=True)\n",
        "# Quantidade de valores\n",
        "filterFim['Palavras chave de descrição do produto'].count()"
      ],
      "metadata": {
        "id": "y50mf19PFkzV"
      },
      "execution_count": null,
      "outputs": []
    },
    {
      "cell_type": "code",
      "source": [
        "# Transformação do DF em excel\n",
        "filterFim.to_excel('Relatório de Importação de Capacetes de Bike.xlsx', index=False)"
      ],
      "metadata": {
        "id": "0w74GdbgWT2d"
      },
      "execution_count": null,
      "outputs": []
    },
    {
      "cell_type": "code",
      "source": [
        "df3 = pd.read_excel('Relatório de Importação de Capacetes de Bike.xlsx')\n",
        "df3['Palavras chave de descrição do produto'].count()"
      ],
      "metadata": {
        "id": "CCqXO4BnVSQv"
      },
      "execution_count": null,
      "outputs": []
    },
    {
      "cell_type": "code",
      "source": [
        "# Cópia da base\n",
        "dfRes = df3.copy()"
      ],
      "metadata": {
        "id": "1D-9amSnbuw2"
      },
      "execution_count": null,
      "outputs": []
    },
    {
      "cell_type": "code",
      "source": [
        "# Lista vazia para os dados extraídos\n",
        "extracted_data = []\n",
        "\n",
        "# Função for que itera para cada linha do DataFrame\n",
        "for index, row in dfRes.iterrows():\n",
        "  # Tenta executar as funções\n",
        "  try:\n",
        "    # Transforma a string em um dicionário Python\n",
        "    row_dict = ast.literal_eval(row['Relevância por palavra-chave'])\n",
        "    # Função for que itera cada parâmetro do dicionário\n",
        "    for key, inner_dict in row_dict.items():\n",
        "      # Para cada parâmetro do dicionário, um dado é extraído e colocado na lista\n",
        "        extracted_data.append({\n",
        "        'row_index': index,\n",
        "        'Keywords': inner_dict['keywords'],\n",
        "        'Quantidade Estatística': inner_dict['relevancia_qtd'],\n",
        "        'Valor FOB Unitário': inner_dict['relevancia_fob']\n",
        "    })\n",
        "  # Se tiver um erro, separa dos extraídos para que não pare a execução\n",
        "  except (ValueError, KeyError, SyntaxError) as e:\n",
        "    print(f\"Erro ao processar a linha {index}: {e}\")\n",
        "\n",
        "# Transforma a lista dos extraídos em um DataFrame\n",
        "dfRes_extracted = pd.DataFrame(extracted_data)\n",
        "\n",
        "# Transforma os valores para numérico\n",
        "dfRes_extracted['Quantidade Estatística'] = pd.to_numeric(dfRes_extracted['Quantidade Estatística'], errors='coerce')\n",
        "dfRes_extracted['Valor FOB Unitário'] = pd.to_numeric(dfRes_extracted['Valor FOB Unitário'], errors='coerce')\n",
        "\n",
        "# Une esse novo DF com o resto da base\n",
        "dfRes_final = dfRes.merge(dfRes_extracted, left_index=True, right_on = 'row_index', how='left')\n",
        "# Excluí colunas indesejadas\n",
        "dfRes_final.drop(columns=['Relevância por palavra-chave', 'row_index'], inplace=True)\n",
        "\n",
        "dfRes_final.head()"
      ],
      "metadata": {
        "id": "Z0X3dVr0v8e0"
      },
      "execution_count": null,
      "outputs": []
    },
    {
      "cell_type": "code",
      "source": [
        "# Divide a coluna FOB pela Quantidade estatística\n",
        "dfRes_final['QTD por FOB'] = dfRes_final['Valor FOB Unitário'] / dfRes_final['Quantidade Estatística']\n",
        "dfRes_final.head()"
      ],
      "metadata": {
        "id": "vU8zIac4FqpH"
      },
      "execution_count": null,
      "outputs": []
    },
    {
      "cell_type": "code",
      "source": [
        "# DF para Excel\n",
        "dfRes_final.to_excel('Relatório de Importação de Capacetes de Bike Final.xlsx', index=False)"
      ],
      "metadata": {
        "id": "gP6X6vdURMxf"
      },
      "execution_count": null,
      "outputs": []
    },
    {
      "cell_type": "code",
      "source": [
        "df4 = pd.read_excel('Relatório de Importação de Capacetes de Bike Final.xlsx')\n",
        "df4.head()"
      ],
      "metadata": {
        "id": "rrdUwxrwwSZk"
      },
      "execution_count": null,
      "outputs": []
    },
    {
      "cell_type": "code",
      "source": [
        "dfExt = df4.copy()"
      ],
      "metadata": {
        "id": "9c0sM1BteWWP"
      },
      "execution_count": null,
      "outputs": []
    },
    {
      "cell_type": "code",
      "source": [
        "# Lista contendo marcas de capacete de moto\n",
        "brandsMot = [\n",
        "    \"AGV\", \"AIROH\", \"ALPINESTAR\", \"ASW\", \"ASTONE\", \"AXXIS\", \"BIEFFE\", \"BMW\", \"GP TECH\",\n",
        "    \"HELT\", \"HJC\", \"KYT\", \"LS2\", \"LUCCA\", \"NEXX\", \"NOLAN\", \"NORISK\", \"NZI\", \"PEELS\",\n",
        "    'RACE', \"RACE TECH\", \"SCHUBERTH\", \"SHARK\", \"SHOEI\", \"SMK\", \"STG\", \"SUOMY\", \"TEXX\",\n",
        "    \"X11\", 'Reaper']"
      ],
      "metadata": {
        "id": "ALje3pTQA_KP"
      },
      "execution_count": null,
      "outputs": []
    },
    {
      "cell_type": "code",
      "source": [
        "# Lista contendo marcas de capacete de bicicleta\n",
        "bandsBic = [\n",
        "    'ARAI', 'BELL', 'ABUS']"
      ],
      "metadata": {
        "id": "IOvH2TymXTgT"
      },
      "execution_count": null,
      "outputs": []
    },
    {
      "cell_type": "code",
      "source": [
        "# Vai trazer todos os valores que não estão contidos dentro da lista 'brandsMot'\n",
        "filterExt = dfExt[\n",
        "    ~dfExt['Palavras chave de descrição do produto']\n",
        "    .astype(str)\n",
        "    .str.contains('|'.join(brandsMot))]\n",
        "# Retira index\n",
        "filterExt.reset_index(drop=True, inplace=True)\n",
        "# Quantidade de valores\n",
        "filterExt['Palavras chave de descrição do produto'].count()"
      ],
      "metadata": {
        "id": "thH7QYFZ5bw1"
      },
      "execution_count": null,
      "outputs": []
    }
  ]
}